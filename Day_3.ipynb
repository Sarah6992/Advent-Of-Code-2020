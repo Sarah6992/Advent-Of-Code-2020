{
 "cells": [
  {
   "cell_type": "markdown",
   "metadata": {},
   "source": [
    "## Advent of Code"
   ]
  },
  {
   "cell_type": "markdown",
   "metadata": {},
   "source": [
    "# Day 3"
   ]
  },
  {
   "cell_type": "code",
   "execution_count": 1,
   "metadata": {},
   "outputs": [
    {
     "name": "stdout",
     "output_type": "stream",
     "text": [
      "289\n",
      "84\n",
      "289\n",
      "89\n",
      "71\n",
      "36\n",
      "5522401584\n"
     ]
    }
   ],
   "source": [
    "with open('input3.txt') as file:\n",
    "    input_list = file.read().split()\n",
    "# First Problem\n",
    "encountered_trees = []\n",
    "for row in range(len(input_list)):\n",
    "    right_down = row * 3\n",
    "    right_down = right_down% len(input_list[0])\n",
    "    x = input_list[row][right_down]\n",
    "    encountered_trees.append(x)\n",
    "print(encountered_trees.count('#'))\n",
    "# Second Problem\n",
    "total = 1\n",
    "multiplied_trees = []\n",
    "right = [[1,1],[3,1],[5,1],[7,1],[1,2]]\n",
    "for k in right:\n",
    "    encountered_trees = []\n",
    "    for row in range(0, len(input_list),k[1]):\n",
    "        right_down = int((row * k[0])/k[1])\n",
    "        right_down = right_down% len(input_list[0])\n",
    "        x = input_list[row][right_down]\n",
    "        encountered_trees.append(x)\n",
    "    print(encountered_trees.count('#'))\n",
    "    multiplied_trees.append(encountered_trees.count('#'))\n",
    "for i in multiplied_trees:\n",
    "    total = total*i\n",
    "print(total)"
   ]
  }
 ],
 "metadata": {
  "kernelspec": {
   "display_name": "Python 3",
   "language": "python",
   "name": "python3"
  },
  "language_info": {
   "codemirror_mode": {
    "name": "ipython",
    "version": 3
   },
   "file_extension": ".py",
   "mimetype": "text/x-python",
   "name": "python",
   "nbconvert_exporter": "python",
   "pygments_lexer": "ipython3",
   "version": "3.7.4"
  }
 },
 "nbformat": 4,
 "nbformat_minor": 2
}
